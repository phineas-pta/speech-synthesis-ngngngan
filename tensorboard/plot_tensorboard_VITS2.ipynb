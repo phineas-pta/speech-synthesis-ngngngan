{
	"cells": [
		{
			"cell_type": "markdown",
			"metadata": {},
			"source": [
				"5h audio at 22.05 kHz (+ cache created by `torch`) = 1.1 GiB disk space\n",
				"\n",
				"log data point every 200 steps, save ckpt every 10 epoch\n",
				"\n",
				"batch size = 12 ⇒ 1 epoch = 486 steps\n",
				"\n",
				"train locally (continue training from a vietnamese checkpoint), ≈ 1 hour/epoch\n",
				"\n",
				"train ?? epochs, select ckpt at ??th epoch"
			]
		},
		{
			"cell_type": "code",
			"execution_count": null,
			"metadata": {},
			"outputs": [],
			"source": [
				"import numpy as np\n",
				"import pandas as pd\n",
				"from scipy.signal import lfilter\n",
				"import matplotlib.pyplot as plt\n",
				"from matplotlib.ticker import EngFormatter"
			]
		}
	],
	"metadata": {
		"kernelspec": {
			"display_name": "Python 3 (ipykernel)",
			"language": "python",
			"name": "python3"
		},
		"language_info": {
			"codemirror_mode": {
				"name": "ipython",
				"version": 3
			},
			"name": "python",
			"nbconvert_exporter": "python",
			"pygments_lexer": "ipython3"
		}
	},
	"nbformat": 4,
	"nbformat_minor": 5
}
